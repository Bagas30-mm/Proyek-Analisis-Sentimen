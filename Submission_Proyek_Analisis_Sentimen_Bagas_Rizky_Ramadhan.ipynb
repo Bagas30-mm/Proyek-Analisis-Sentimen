{
  "cells": [
    {
      "cell_type": "markdown",
      "source": [
        "\n",
        "\n",
        "```\n",
        "Nama : Bagas Rizky Ramadhan\n",
        "```\n",
        "\n",
        "\n",
        "```\n",
        "Email : bagasramadhan@apps.ipb.ac.id\n",
        "```\n",
        "\n",
        "\n",
        "```\n",
        "Proyek Analisis Sentimen Kelas Belajar Pengembangan Machine Learning Dicoding\n",
        "```\n",
        "\n",
        "\n",
        "\n",
        "\n"
      ],
      "metadata": {
        "id": "n9y-3-3JIhtj"
      }
    },
    {
      "cell_type": "markdown",
      "source": [
        "###**Import Library**###"
      ],
      "metadata": {
        "id": "hg6dwaAsDQJz"
      }
    },
    {
      "cell_type": "code",
      "source": [
        "# Import libraries\n",
        "import re\n",
        "import string\n",
        "from collections import Counter\n",
        "\n",
        "import numpy as np\n",
        "import pandas as pd\n",
        "\n",
        "from imblearn.over_sampling import SMOTE\n",
        "\n",
        "from sklearn.ensemble import RandomForestClassifier\n",
        "from sklearn.feature_extraction.text import TfidfVectorizer\n",
        "from sklearn.metrics import classification_report, accuracy_score\n",
        "from sklearn.model_selection import train_test_split\n",
        "from sklearn.preprocessing import LabelEncoder\n",
        "from sklearn.svm import SVC\n",
        "\n",
        "from tensorflow.keras.callbacks import EarlyStopping, ReduceLROnPlateau\n",
        "from tensorflow.keras.layers import Dense, Dropout, Embedding, LSTM\n",
        "from tensorflow.keras.models import Sequential\n",
        "from tensorflow.keras.preprocessing.sequence import pad_sequences\n",
        "from tensorflow.keras.preprocessing.text import Tokenizer\n"
      ],
      "metadata": {
        "id": "IF-H2FPRAs8e"
      },
      "execution_count": null,
      "outputs": []
    },
    {
      "cell_type": "code",
      "source": [
        "pip install imbalanced-learn"
      ],
      "metadata": {
        "id": "X2ZLHWxTA251",
        "outputId": "a03dfa85-633c-4c70-f4ba-dddbd18dc365",
        "colab": {
          "base_uri": "https://localhost:8080/"
        }
      },
      "execution_count": null,
      "outputs": [
        {
          "output_type": "stream",
          "name": "stdout",
          "text": [
            "Requirement already satisfied: imbalanced-learn in /usr/local/lib/python3.11/dist-packages (0.13.0)\n",
            "Requirement already satisfied: numpy<3,>=1.24.3 in /usr/local/lib/python3.11/dist-packages (from imbalanced-learn) (2.0.2)\n",
            "Requirement already satisfied: scipy<2,>=1.10.1 in /usr/local/lib/python3.11/dist-packages (from imbalanced-learn) (1.14.1)\n",
            "Requirement already satisfied: scikit-learn<2,>=1.3.2 in /usr/local/lib/python3.11/dist-packages (from imbalanced-learn) (1.6.1)\n",
            "Requirement already satisfied: sklearn-compat<1,>=0.1 in /usr/local/lib/python3.11/dist-packages (from imbalanced-learn) (0.1.3)\n",
            "Requirement already satisfied: joblib<2,>=1.1.1 in /usr/local/lib/python3.11/dist-packages (from imbalanced-learn) (1.4.2)\n",
            "Requirement already satisfied: threadpoolctl<4,>=2.0.0 in /usr/local/lib/python3.11/dist-packages (from imbalanced-learn) (3.6.0)\n"
          ]
        }
      ]
    },
    {
      "cell_type": "markdown",
      "source": [
        "###**Dataset**###"
      ],
      "metadata": {
        "id": "njCR4ojiDnFW"
      }
    },
    {
      "cell_type": "code",
      "source": [
        "# Memuat dataset\n",
        "from google.colab import drive\n",
        "drive.mount('/content/drive')\n",
        "df = pd.read_csv('/content/drive/MyDrive/Proyek Analisis Sentimen/shopee_reviews.csv')\n",
        "df\n",
        "\n",
        "# Menampilkan ukuran dataset\n",
        "baris, kolom = df.shape\n",
        "print(f\"Dataset terdiri dari {baris} baris dan {kolom} kolom.\")\n",
        "\n",
        "# Melihat struktur data dan tipe masing-masing kolom\n",
        "print(\"\\nDetail tipe data dan non-null values tiap kolom:\")\n",
        "df.info()\n",
        "\n",
        "# Meninjau contoh data teratas\n",
        "print(\"\\nContoh data awal:\")\n",
        "print(df.head(5))\n"
      ],
      "metadata": {
        "id": "qUHT3zIEA97o",
        "outputId": "a1f71f15-a6c0-4bb3-f255-15bf4399655c",
        "colab": {
          "base_uri": "https://localhost:8080/"
        }
      },
      "execution_count": null,
      "outputs": [
        {
          "output_type": "stream",
          "name": "stdout",
          "text": [
            "Mounted at /content/drive\n",
            "Dataset terdiri dari 4355 baris dan 3 kolom.\n",
            "\n",
            "Detail tipe data dan non-null values tiap kolom:\n",
            "<class 'pandas.core.frame.DataFrame'>\n",
            "RangeIndex: 4355 entries, 0 to 4354\n",
            "Data columns (total 3 columns):\n",
            " #   Column    Non-Null Count  Dtype \n",
            "---  ------    --------------  ----- \n",
            " 0   username  4340 non-null   object\n",
            " 1   rating    4355 non-null   int64 \n",
            " 2   comment   4355 non-null   object\n",
            "dtypes: int64(1), object(2)\n",
            "memory usage: 102.2+ KB\n",
            "\n",
            "Contoh data awal:\n",
            "          username  rating                                            comment\n",
            "0  muhammadjuandra       5  Tampilan:ok banget cantik banget\\nKualitas:ok ...\n",
            "1   alvaro.maulana       5  Tampilan:Keren\\nKualitas:bagus banget\\nPerform...\n",
            "2    nurhayati2607       5  Tampilan:Tampilan Bagus sekali, tidak tipis\\nK...\n",
            "3          i*****4       5  Kualitas:Bagus\\nPerforma:Bagus\\nTampilan:Bagus...\n",
            "4     ziesuno70411       5  Tampilan:bagua sesuai foto\\nPerforma:belum dip...\n"
          ]
        }
      ]
    },
    {
      "cell_type": "code",
      "source": [
        "# Mengecek jumlah data kosong pada setiap kolom\n",
        "missing_info = df.isna().sum()\n",
        "print(\"\\nTotal data kosong di masing-masing kolom:\")\n",
        "print(missing_info)\n"
      ],
      "metadata": {
        "id": "ecDF5y9KEpC3",
        "outputId": "83daedb1-9485-4512-aba7-bc550b36fe2b",
        "colab": {
          "base_uri": "https://localhost:8080/"
        }
      },
      "execution_count": null,
      "outputs": [
        {
          "output_type": "stream",
          "name": "stdout",
          "text": [
            "\n",
            "Total data kosong di masing-masing kolom:\n",
            "username    15\n",
            "rating       0\n",
            "comment      0\n",
            "dtype: int64\n"
          ]
        }
      ]
    },
    {
      "cell_type": "code",
      "source": [
        "# Meninjau sebaran nilai pada kolom rating\n",
        "rating_counts = df['rating'].value_counts()\n",
        "print(\"\\nSebaran jumlah masing-masing rating:\")\n",
        "print(rating_counts)\n"
      ],
      "metadata": {
        "id": "0ph2OBZkFhTy",
        "outputId": "f6388a3c-bf78-4a5f-a8e8-51693699cd91",
        "colab": {
          "base_uri": "https://localhost:8080/"
        }
      },
      "execution_count": null,
      "outputs": [
        {
          "output_type": "stream",
          "name": "stdout",
          "text": [
            "\n",
            "Sebaran jumlah masing-masing rating:\n",
            "rating\n",
            "5    2128\n",
            "3     814\n",
            "4     521\n",
            "1     504\n",
            "2     388\n",
            "Name: count, dtype: int64\n"
          ]
        }
      ]
    },
    {
      "cell_type": "markdown",
      "source": [
        "##**Data Preprocessing**##"
      ],
      "metadata": {
        "id": "1JmBmAzuD22C"
      }
    },
    {
      "cell_type": "code",
      "source": [
        "# Menghapus baris yang tidak memiliki nilai pada kolom 'username'\n",
        "df_cleaned = df[df['username'].notna()]\n",
        "\n",
        "# Menampilkan jumlah nilai kosong setelah pembersihan\n",
        "print(\"Jumlah data kosong setelah membersihkan kolom 'username':\")\n",
        "print(df_cleaned.isna().sum())\n"
      ],
      "metadata": {
        "id": "EkIB6gXYFuUa",
        "outputId": "c46b0cb6-1a6c-442f-fc03-76041242be92",
        "colab": {
          "base_uri": "https://localhost:8080/"
        }
      },
      "execution_count": null,
      "outputs": [
        {
          "output_type": "stream",
          "name": "stdout",
          "text": [
            "Jumlah data kosong setelah membersihkan kolom 'username':\n",
            "username    0\n",
            "rating      0\n",
            "comment     0\n",
            "dtype: int64\n"
          ]
        }
      ]
    },
    {
      "cell_type": "code",
      "source": [
        "# Definisi fungsi untuk preprocessing teks komentar\n",
        "def bersihkan_teks(teks):\n",
        "    teks = teks.lower()  # ubah ke huruf kecil\n",
        "    teks = re.sub(r'\\d+', '', teks)  # hilangkan angka\n",
        "    teks = teks.translate(str.maketrans('', '', string.punctuation))  # hapus tanda baca\n",
        "    return teks\n",
        "\n",
        "# Terapkan fungsi pembersih ke kolom 'comment' dan simpan hasilnya ke kolom baru\n",
        "df['komentar_bersih'] = df['comment'].apply(bersihkan_teks)\n"
      ],
      "metadata": {
        "id": "XyxpKnPRF5uM"
      },
      "execution_count": null,
      "outputs": []
    },
    {
      "cell_type": "markdown",
      "source": [
        "##**Sentimen Labeling**##"
      ],
      "metadata": {
        "id": "TSzprOKjETtH"
      }
    },
    {
      "cell_type": "code",
      "source": [
        "# Fungsi untuk mengklasifikasikan sentimen berdasarkan polaritas\n",
        "def klasifikasi_sentimen(teks):\n",
        "    from textblob import TextBlob\n",
        "    skor = TextBlob(teks).sentiment.polarity\n",
        "    if skor > 0:\n",
        "        return 'positif'\n",
        "    elif skor < 0:\n",
        "        return 'negatif'\n",
        "    else:\n",
        "        return 'netral'\n",
        "\n",
        "# Terapkan fungsi ke kolom teks bersih untuk menghasilkan label sentimen\n",
        "df['sentimen'] = df['komentar_bersih'].apply(klasifikasi_sentimen)\n"
      ],
      "metadata": {
        "id": "0LdEioUjGGAL"
      },
      "execution_count": null,
      "outputs": []
    },
    {
      "cell_type": "markdown",
      "source": [
        "##**Preparasi data**##"
      ],
      "metadata": {
        "id": "puVCzSEYEk4y"
      }
    },
    {
      "cell_type": "code",
      "source": [
        "# Mengubah label sentimen menjadi bentuk numerik\n",
        "encoder = LabelEncoder()\n",
        "y = encoder.fit_transform(df['sentimen'])\n",
        "X = df['komentar_bersih']\n",
        "\n",
        "# Membagi data menjadi data latih dan data uji dengan proporsi 80:20\n",
        "X_train_raw, X_test_raw, y_train, y_test = train_test_split(\n",
        "    X, y, test_size=0.2, stratify=y, random_state=42\n",
        ")\n"
      ],
      "metadata": {
        "id": "rKtp5Ml4JlnJ"
      },
      "execution_count": null,
      "outputs": []
    },
    {
      "cell_type": "markdown",
      "source": [
        "##**3 percobaan skema pelatihan**##"
      ],
      "metadata": {
        "id": "PTqrp6doGDIP"
      }
    },
    {
      "cell_type": "markdown",
      "source": [
        "# Percobaan 1: SVM dengan TF-IDF(80/20 split)"
      ],
      "metadata": {
        "id": "pL8Qo0yHJTaj"
      }
    },
    {
      "cell_type": "code",
      "source": [
        "# Transformasi teks menggunakan TF-IDF\n",
        "tfidf = TfidfVectorizer()\n",
        "X_train_vec = tfidf.fit_transform(X_train_raw)\n",
        "X_test_vec = tfidf.transform(X_test_raw)\n",
        "\n",
        "# Menyeimbangkan data latih dengan SMOTE\n",
        "sm = SMOTE(random_state=42)\n",
        "X_train_balanced, y_train_balanced = sm.fit_resample(X_train_vec, y_train)\n",
        "\n",
        "# Menampilkan distribusi label setelah penyeimbangan\n",
        "print(\"Sebaran kelas setelah SMOTE:\", Counter(y_train_balanced))\n"
      ],
      "metadata": {
        "id": "w4Aw5J68Jzmd",
        "outputId": "6e2d9522-bf77-4a39-f7c9-4865122831c6",
        "colab": {
          "base_uri": "https://localhost:8080/"
        }
      },
      "execution_count": null,
      "outputs": [
        {
          "output_type": "stream",
          "name": "stdout",
          "text": [
            "Sebaran kelas setelah SMOTE: Counter({np.int64(1): 3047, np.int64(2): 3047, np.int64(0): 3047})\n"
          ]
        }
      ]
    },
    {
      "cell_type": "code",
      "source": [
        "# === Model 1: Support Vector Machine (SVM) ===\n",
        "model_svm = SVC(kernel='linear', random_state=42)\n",
        "model_svm.fit(X_train_balanced, y_train_balanced)\n",
        "\n",
        "# Prediksi menggunakan data uji\n",
        "prediksi_svm = model_svm.predict(X_test_vec)\n",
        "\n",
        "# Evaluasi performa model\n",
        "akurasi_svm = accuracy_score(y_test, prediksi_svm)\n",
        "print(\"\\nHasil Evaluasi untuk SVM:\")\n",
        "print(f\"Akurasi: {akurasi_svm:.4f}\")\n",
        "print(classification_report(y_test, prediksi_svm, target_names=['negatif', 'netral', 'positif']))\n"
      ],
      "metadata": {
        "id": "RzF8n9LnKCOb",
        "outputId": "10da2477-f854-4485-ae9d-01691f5d5fd3",
        "colab": {
          "base_uri": "https://localhost:8080/"
        }
      },
      "execution_count": null,
      "outputs": [
        {
          "output_type": "stream",
          "name": "stdout",
          "text": [
            "\n",
            "Hasil Evaluasi untuk SVM:\n",
            "Akurasi: 0.9701\n",
            "              precision    recall  f1-score   support\n",
            "\n",
            "     negatif       0.89      0.47      0.62        17\n",
            "      netral       0.97      1.00      0.98       761\n",
            "     positif       0.98      0.85      0.91        93\n",
            "\n",
            "    accuracy                           0.97       871\n",
            "   macro avg       0.94      0.77      0.84       871\n",
            "weighted avg       0.97      0.97      0.97       871\n",
            "\n"
          ]
        }
      ]
    },
    {
      "cell_type": "markdown",
      "source": [
        "# Percobaan 2: Random Forest dengan Word2Vec (80/20 split)"
      ],
      "metadata": {
        "id": "d6FzS02_GkTG"
      }
    },
    {
      "cell_type": "code",
      "source": [
        "# === Model 2: Random Forest Classifier ===\n",
        "model_rf = RandomForestClassifier(random_state=42)\n",
        "model_rf.fit(X_train_balanced, y_train_balanced)\n",
        "\n",
        "# Melakukan prediksi pada data pengujian\n",
        "prediksi_rf = model_rf.predict(X_test_vec)\n",
        "\n",
        "# Menampilkan hasil evaluasi model\n",
        "akurasi_rf = accuracy_score(y_test, prediksi_rf)\n",
        "print(\"\\nEvaluasi Kinerja Random Forest:\")\n",
        "print(f\"Akurasi: {akurasi_rf:.4f}\")\n",
        "print(classification_report(y_test, prediksi_rf, target_names=['negatif', 'netral', 'positif']))\n"
      ],
      "metadata": {
        "id": "rdY4OkxULiU4",
        "outputId": "155b3bd6-0003-4b42-eeda-6989c4df4f71",
        "colab": {
          "base_uri": "https://localhost:8080/"
        }
      },
      "execution_count": null,
      "outputs": [
        {
          "output_type": "stream",
          "name": "stdout",
          "text": [
            "\n",
            "Evaluasi Kinerja Random Forest:\n",
            "Akurasi: 0.8978\n",
            "              precision    recall  f1-score   support\n",
            "\n",
            "     negatif       0.00      0.00      0.00        17\n",
            "      netral       0.90      1.00      0.94       761\n",
            "     positif       0.92      0.25      0.39        93\n",
            "\n",
            "    accuracy                           0.90       871\n",
            "   macro avg       0.61      0.41      0.44       871\n",
            "weighted avg       0.88      0.90      0.87       871\n",
            "\n"
          ]
        },
        {
          "output_type": "stream",
          "name": "stderr",
          "text": [
            "/usr/local/lib/python3.11/dist-packages/sklearn/metrics/_classification.py:1565: UndefinedMetricWarning: Precision is ill-defined and being set to 0.0 in labels with no predicted samples. Use `zero_division` parameter to control this behavior.\n",
            "  _warn_prf(average, modifier, f\"{metric.capitalize()} is\", len(result))\n",
            "/usr/local/lib/python3.11/dist-packages/sklearn/metrics/_classification.py:1565: UndefinedMetricWarning: Precision is ill-defined and being set to 0.0 in labels with no predicted samples. Use `zero_division` parameter to control this behavior.\n",
            "  _warn_prf(average, modifier, f\"{metric.capitalize()} is\", len(result))\n",
            "/usr/local/lib/python3.11/dist-packages/sklearn/metrics/_classification.py:1565: UndefinedMetricWarning: Precision is ill-defined and being set to 0.0 in labels with no predicted samples. Use `zero_division` parameter to control this behavior.\n",
            "  _warn_prf(average, modifier, f\"{metric.capitalize()} is\", len(result))\n"
          ]
        }
      ]
    },
    {
      "cell_type": "markdown",
      "source": [
        "# Percobaan 3: Deep Learning LSTM (70/30 split)"
      ],
      "metadata": {
        "id": "xhCtjF-KG6YK"
      }
    },
    {
      "cell_type": "code",
      "source": [
        "# Preprocessing untuk model LSTM\n",
        "max_words = 10000\n",
        "max_len = 100\n",
        "tokenizer = Tokenizer(num_words=max_words)\n",
        "tokenizer.fit_on_texts(X_train_raw)\n",
        "\n",
        "X_train_seq = tokenizer.texts_to_sequences(X_train_raw)\n",
        "X_test_seq = tokenizer.texts_to_sequences(X_test_raw)\n",
        "\n",
        "X_train_pad = pad_sequences(X_train_seq, maxlen=max_len)\n",
        "X_test_pad = pad_sequences(X_test_seq, maxlen=max_len)\n",
        "\n",
        "# Konversi label ke one-hot encoding\n",
        "y_train_cat = pd.get_dummies(y_train).values\n",
        "y_test_cat = pd.get_dummies(y_test).values"
      ],
      "metadata": {
        "id": "jgAN8-5kL6T-"
      },
      "execution_count": null,
      "outputs": []
    },
    {
      "cell_type": "code",
      "source": [
        "# === Model 3: Arsitektur LSTM ===\n",
        "lstm_network = Sequential([\n",
        "    Embedding(input_dim=max_words, output_dim=100, input_length=max_len),\n",
        "    LSTM(units=128, return_sequences=True, kernel_regularizer='l2'),\n",
        "    Dropout(0.5),\n",
        "    LSTM(units=64, kernel_regularizer='l2'),\n",
        "    Dropout(0.5),\n",
        "    Dense(units=3, activation='softmax')\n",
        "])\n",
        "\n",
        "# Kompilasi model\n",
        "lstm_network.compile(\n",
        "    optimizer='adam',\n",
        "    loss='categorical_crossentropy',\n",
        "    metrics=['accuracy']\n",
        ")\n",
        "\n",
        "# Konfigurasi callback: early stopping dan penyesuaian learning rate\n",
        "callback_list = [\n",
        "    EarlyStopping(monitor='val_loss', patience=3, restore_best_weights=True),\n",
        "    ReduceLROnPlateau(monitor='val_loss', patience=2, factor=0.2)\n",
        "]\n",
        "\n",
        "# Proses pelatihan model\n",
        "training_log = lstm_network.fit(\n",
        "    X_train_pad, y_train_cat,\n",
        "    epochs=15,\n",
        "    batch_size=64,\n",
        "    validation_data=(X_test_pad, y_test_cat),\n",
        "    callbacks=callback_list\n",
        ")\n",
        "\n",
        "# Evaluasi performa pada data uji\n",
        "final_loss, final_accuracy = lstm_network.evaluate(X_test_pad, y_test_cat)\n",
        "print(\"\\nLaporan Evaluasi Model LSTM:\")\n",
        "print(f\"Akurasi akhir: {final_accuracy:.4f}\")\n"
      ],
      "metadata": {
        "id": "eSTjFkf1YB_Z",
        "outputId": "67375848-10a0-4447-ac01-b7e4e1b40fd2",
        "colab": {
          "base_uri": "https://localhost:8080/"
        }
      },
      "execution_count": null,
      "outputs": [
        {
          "output_type": "stream",
          "name": "stdout",
          "text": [
            "Epoch 1/15\n"
          ]
        },
        {
          "output_type": "stream",
          "name": "stderr",
          "text": [
            "/usr/local/lib/python3.11/dist-packages/keras/src/layers/core/embedding.py:90: UserWarning: Argument `input_length` is deprecated. Just remove it.\n",
            "  warnings.warn(\n"
          ]
        },
        {
          "output_type": "stream",
          "name": "stdout",
          "text": [
            "\u001b[1m55/55\u001b[0m \u001b[32m━━━━━━━━━━━━━━━━━━━━\u001b[0m\u001b[37m\u001b[0m \u001b[1m32s\u001b[0m 483ms/step - accuracy: 0.8361 - loss: 3.1028 - val_accuracy: 0.8737 - val_loss: 1.1585 - learning_rate: 0.0010\n",
            "Epoch 2/15\n",
            "\u001b[1m55/55\u001b[0m \u001b[32m━━━━━━━━━━━━━━━━━━━━\u001b[0m\u001b[37m\u001b[0m \u001b[1m41s\u001b[0m 490ms/step - accuracy: 0.8829 - loss: 0.9227 - val_accuracy: 0.8737 - val_loss: 0.5650 - learning_rate: 0.0010\n",
            "Epoch 3/15\n",
            "\u001b[1m55/55\u001b[0m \u001b[32m━━━━━━━━━━━━━━━━━━━━\u001b[0m\u001b[37m\u001b[0m \u001b[1m40s\u001b[0m 481ms/step - accuracy: 0.8736 - loss: 0.5408 - val_accuracy: 0.8737 - val_loss: 0.4624 - learning_rate: 0.0010\n",
            "Epoch 4/15\n",
            "\u001b[1m55/55\u001b[0m \u001b[32m━━━━━━━━━━━━━━━━━━━━\u001b[0m\u001b[37m\u001b[0m \u001b[1m40s\u001b[0m 467ms/step - accuracy: 0.8754 - loss: 0.4321 - val_accuracy: 0.8875 - val_loss: 0.3732 - learning_rate: 0.0010\n",
            "Epoch 5/15\n",
            "\u001b[1m55/55\u001b[0m \u001b[32m━━━━━━━━━━━━━━━━━━━━\u001b[0m\u001b[37m\u001b[0m \u001b[1m24s\u001b[0m 435ms/step - accuracy: 0.9406 - loss: 0.2528 - val_accuracy: 0.9173 - val_loss: 0.3187 - learning_rate: 0.0010\n",
            "Epoch 6/15\n",
            "\u001b[1m55/55\u001b[0m \u001b[32m━━━━━━━━━━━━━━━━━━━━\u001b[0m\u001b[37m\u001b[0m \u001b[1m41s\u001b[0m 435ms/step - accuracy: 0.9583 - loss: 0.1926 - val_accuracy: 0.9242 - val_loss: 0.3383 - learning_rate: 0.0010\n",
            "Epoch 7/15\n",
            "\u001b[1m55/55\u001b[0m \u001b[32m━━━━━━━━━━━━━━━━━━━━\u001b[0m\u001b[37m\u001b[0m \u001b[1m49s\u001b[0m 592ms/step - accuracy: 0.9780 - loss: 0.1215 - val_accuracy: 0.9357 - val_loss: 0.3165 - learning_rate: 0.0010\n",
            "Epoch 8/15\n",
            "\u001b[1m55/55\u001b[0m \u001b[32m━━━━━━━━━━━━━━━━━━━━\u001b[0m\u001b[37m\u001b[0m \u001b[1m34s\u001b[0m 452ms/step - accuracy: 0.9759 - loss: 0.1140 - val_accuracy: 0.9196 - val_loss: 0.3831 - learning_rate: 0.0010\n",
            "Epoch 9/15\n",
            "\u001b[1m55/55\u001b[0m \u001b[32m━━━━━━━━━━━━━━━━━━━━\u001b[0m\u001b[37m\u001b[0m \u001b[1m26s\u001b[0m 481ms/step - accuracy: 0.9711 - loss: 0.1104 - val_accuracy: 0.9357 - val_loss: 0.2388 - learning_rate: 0.0010\n",
            "Epoch 10/15\n",
            "\u001b[1m55/55\u001b[0m \u001b[32m━━━━━━━━━━━━━━━━━━━━\u001b[0m\u001b[37m\u001b[0m \u001b[1m27s\u001b[0m 502ms/step - accuracy: 0.9730 - loss: 0.1054 - val_accuracy: 0.9414 - val_loss: 0.3447 - learning_rate: 0.0010\n",
            "Epoch 11/15\n",
            "\u001b[1m55/55\u001b[0m \u001b[32m━━━━━━━━━━━━━━━━━━━━\u001b[0m\u001b[37m\u001b[0m \u001b[1m40s\u001b[0m 481ms/step - accuracy: 0.9797 - loss: 0.0839 - val_accuracy: 0.9265 - val_loss: 0.2630 - learning_rate: 0.0010\n",
            "Epoch 12/15\n",
            "\u001b[1m55/55\u001b[0m \u001b[32m━━━━━━━━━━━━━━━━━━━━\u001b[0m\u001b[37m\u001b[0m \u001b[1m42s\u001b[0m 494ms/step - accuracy: 0.9794 - loss: 0.0750 - val_accuracy: 0.9357 - val_loss: 0.2522 - learning_rate: 2.0000e-04\n",
            "\u001b[1m28/28\u001b[0m \u001b[32m━━━━━━━━━━━━━━━━━━━━\u001b[0m\u001b[37m\u001b[0m \u001b[1m2s\u001b[0m 72ms/step - accuracy: 0.9338 - loss: 0.2352\n",
            "\n",
            "Laporan Evaluasi Model LSTM:\n",
            "Akurasi akhir: 0.9357\n"
          ]
        }
      ]
    },
    {
      "source": [
        "# === Visualisasi Performa Pelatihan ===\n",
        "import matplotlib.pyplot as plt # Import the pyplot module from matplotlib\n",
        "\n",
        "plt.figure(figsize=(12, 5))\n",
        "\n",
        "# Visualisasi Loss\n",
        "plt.subplot(1, 2, 1)\n",
        "plt.plot(training_log.history['loss'], color='blue', label='Loss Training')\n",
        "plt.plot(training_log.history['val_loss'], color='orange', label='Loss Validasi')\n",
        "plt.xlabel('Epoch')\n",
        "plt.ylabel('Nilai Loss')\n",
        "plt.title('Grafik Loss Selama Training')\n",
        "plt.legend()\n",
        "\n",
        "# Visualisasi Akurasi\n",
        "plt.subplot(1, 2, 2)\n",
        "plt.plot(training_log.history['accuracy'], color='green', label='Akurasi Training')\n",
        "plt.plot(training_log.history['val_accuracy'], color='red', label='Akurasi Validasi')\n",
        "plt.xlabel('Epoch')\n",
        "plt.ylabel('Akurasi')\n",
        "plt.title('Grafik Akurasi Selama Training')\n",
        "plt.legend()\n",
        "\n",
        "plt.tight_layout()\n",
        "plt.show()"
      ],
      "cell_type": "code",
      "metadata": {
        "id": "OHBA9kTmCoIA",
        "outputId": "942aad87-5a12-4637-ab0d-9137a80f6838",
        "colab": {
          "base_uri": "https://localhost:8080/",
          "height": 507
        }
      },
      "execution_count": null,
      "outputs": [
        {
          "output_type": "display_data",
          "data": {
            "text/plain": [
              "<Figure size 1200x500 with 2 Axes>"
            ],
            "image/png": "[encoded data removed]"
          },
          "metadata": {}
        }
      ]
    },
    {
      "cell_type": "markdown",
      "source": [
        "##**Inference atau testing**##"
      ],
      "metadata": {
        "id": "38WO8WqRH0Cn"
      }
    },
    {
      "source": [
        "# Membandingkan performa ketiga model berdasarkan akurasi\n",
        "skor_akurasi = {\n",
        "    'SVM': model_svm.score(X_test_vec, y_test),  # Get accuracy directly using .score()\n",
        "    'Random Forest': akurasi_rf,  # Changed accuracy_rf to akurasi_rf\n",
        "    'LSTM': final_accuracy  # Use the correct variable for LSTM accuracy\n",
        "}\n",
        "\n",
        "# Menentukan model dengan akurasi tertinggi\n",
        "model_terbaik = max(skor_akurasi, key=skor_akurasi.get)\n",
        "print(f\"\\nModel dengan performa terbaik (akurasi tertinggi): {model_terbaik}\")"
      ],
      "cell_type": "code",
      "metadata": {
        "id": "172gdSMpCwth",
        "outputId": "1a3748c6-b43e-405e-84fd-4f96d6e187dc",
        "colab": {
          "base_uri": "https://localhost:8080/"
        }
      },
      "execution_count": null,
      "outputs": [
        {
          "output_type": "stream",
          "name": "stdout",
          "text": [
            "\n",
            "Model dengan performa terbaik (akurasi tertinggi): SVM\n"
          ]
        }
      ]
    },
    {
      "source": [
        "# Membandingkan performa ketiga model berdasarkan akurasi\n",
        "skor_akurasi = {\n",
        "    'SVM': model_svm.score(X_test_vec, y_test),  # Get accuracy directly using .score()\n",
        "    'Random Forest': akurasi_rf,  # Use 'akurasi_rf' instead of 'accuracy_rf'\n",
        "    'LSTM': final_accuracy  # Use the correct variable for LSTM accuracy\n",
        "}\n",
        "\n",
        "# Menentukan model dengan akurasi tertinggi\n",
        "model_terbaik = max(skor_akurasi, key=skor_akurasi.get)\n",
        "print(f\"\\nModel dengan performa terbaik (akurasi tertinggi): {model_terbaik}\")\n",
        "\n",
        "# Assign the name of the best model to best_model_name\n",
        "best_model_name = model_terbaik\n",
        "\n",
        "# Latih LabelEncoder pada label asli\n",
        "label_encoder = LabelEncoder()\n",
        "label_encoder.fit(df['sentimen'])\n",
        "\n",
        "# Tentukan model terbaik berdasarkan nama yang telah dipilih\n",
        "if best_model_name == 'SVM':\n",
        "    model_terpilih = model_svm # Use the correct model variable\n",
        "    prediksi_terbaik = model_svm.predict(X_test_vec) # Use predict on correct data\n",
        "elif best_model_name == 'Random Forest':\n",
        "    model_terpilih = model_rf # Use the correct model variable\n",
        "    prediksi_terbaik = model_rf.predict(X_test_vec) # Use predict on correct data\n",
        "else:\n",
        "    model_terpilih = lstm_network # Use the actual LSTM model variable\n",
        "    prediksi_terbaik = lstm_network.predict(X_test_pad).argmax(axis=1)\n",
        "\n",
        "# Buat DataFrame untuk membandingkan label asli dan hasil prediksi\n",
        "hasil_klasifikasi = pd.DataFrame({\n",
        "    'Label Asli': label_encoder.inverse_transform(y_test),\n",
        "    'Label Prediksi': label_encoder.inverse_transform(prediksi_terbaik)\n",
        "})\n",
        "\n",
        "print(\"\\nHasil Perbandingan Label Asli vs Prediksi:\")\n",
        "print(hasil_klasifikasi.head())"
      ],
      "cell_type": "code",
      "metadata": {
        "id": "58s1rVGzC6Aa",
        "outputId": "7031bdc0-1831-4210-fe21-28b17c990152",
        "colab": {
          "base_uri": "https://localhost:8080/"
        }
      },
      "execution_count": null,
      "outputs": [
        {
          "output_type": "stream",
          "name": "stdout",
          "text": [
            "\n",
            "Model dengan performa terbaik (akurasi tertinggi): SVM\n",
            "\n",
            "Hasil Perbandingan Label Asli vs Prediksi:\n",
            "  Label Asli Label Prediksi\n",
            "0     netral         netral\n",
            "1     netral         netral\n",
            "2    positif        positif\n",
            "3     netral         netral\n",
            "4     netral         netral\n"
          ]
        }
      ]
    },
    {
      "cell_type": "code",
      "source": [
        "!pip freeze > requirements.txt"
      ],
      "metadata": {
        "id": "Ixw8a53bhkkJ"
      },
      "execution_count": null,
      "outputs": []
    }
  ],
  "metadata": {
    "colab": {
      "provenance": []
    },
    "kernelspec": {
      "display_name": "Python 3",
      "name": "python3"
    }
  },
  "nbformat": 4,
  "nbformat_minor": 0
}